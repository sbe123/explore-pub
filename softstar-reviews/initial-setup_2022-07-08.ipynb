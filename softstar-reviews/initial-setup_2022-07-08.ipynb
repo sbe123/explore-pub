{
 "cells": [
  {
   "cell_type": "code",
   "execution_count": 9,
   "metadata": {},
   "outputs": [],
   "source": [
    "import os\n",
    "# Get code directory\n",
    "code_dir = os.getenv('code_dir')\n",
    "\n",
    "# Get sbe utils directory\n",
    "utils_dir = f'{code_dir}/sbe123/explore-pub/utils'\n",
    "\n",
    "# at utils directory to Pythonpath\n",
    "import sys\n",
    "sys.path.insert(0, utils_dir)\n",
    "\n",
    "# Get robots.txt checker\n",
    "import robots_parser as rp\n",
    "\n",
    "import time\n",
    "\n",
    "# Selenium imports\n",
    "from selenium import webdriver\n",
    "from selenium.webdriver.common.by import By"
   ]
  },
  {
   "cell_type": "markdown",
   "metadata": {},
   "source": [
    "### 0. Check robots.txt"
   ]
  },
  {
   "cell_type": "code",
   "execution_count": 2,
   "metadata": {},
   "outputs": [],
   "source": [
    "# set robots.txt url\n",
    "softstar_robots_url = 'https://www.softstarshoes.com/robots.txt'\n",
    "\n",
    "# set our user agent\n",
    "user_agent = 'reviewsBot'\n",
    "\n",
    "# set reviews page\n",
    "reviews_url = 'https://www.softstarshoes.com/primal-runamoc.html'"
   ]
  },
  {
   "cell_type": "code",
   "execution_count": 3,
   "metadata": {},
   "outputs": [],
   "source": [
    "# Initialize RobotFileParser object\n",
    "rp_obj = rp.RobotFileParser(url=softstar_robots_url)"
   ]
  },
  {
   "cell_type": "code",
   "execution_count": 4,
   "metadata": {},
   "outputs": [
    {
     "name": "stdout",
     "output_type": "stream",
     "text": [
      "\n",
      "robots.txt GET request successful!\n",
      "\n",
      "robots.txt is all clear!\n"
     ]
    }
   ],
   "source": [
    "# Get and parse robots.txt\n",
    "rp_obj.get_robots_text()\n",
    " \n",
    "# Check robots.txt for permission to scrape\n",
    "if rp_obj.can_fetch(user_agent, reviews_url):\n",
    "    \n",
    "    print('\\nrobots.txt is all clear!')\n",
    " \n",
    "else:\n",
    "    \n",
    "    raise Exception(f'Robots.txt disallows our bot: ({user_agent}).')"
   ]
  },
  {
   "cell_type": "markdown",
   "metadata": {},
   "source": [
    "### 1. Initialize webdriver and navigate to reviews page"
   ]
  },
  {
   "cell_type": "code",
   "execution_count": 7,
   "metadata": {},
   "outputs": [
    {
     "name": "stdout",
     "output_type": "stream",
     "text": [
      "\n",
      "Creating web driver object....\n",
      "\twebdriver created....\n"
     ]
    }
   ],
   "source": [
    "# Initialize webdriver\n",
    "print('\\nCreating web driver object....')\n",
    "\n",
    "# Create webdriver object\n",
    "driver = webdriver.Chrome()\n",
    "\n",
    "print('\\twebdriver created....')"
   ]
  },
  {
   "cell_type": "code",
   "execution_count": 22,
   "metadata": {},
   "outputs": [
    {
     "name": "stdout",
     "output_type": "stream",
     "text": [
      "\n",
      "Opening a web page....\n",
      "\tWeb page open, pausing for 5 seconds....\n",
      "\tpause complete!\n"
     ]
    }
   ],
   "source": [
    "# Navigate to product page\n",
    "print('\\nOpening a web page....')\n",
    "\n",
    "# Get a web page\n",
    "driver.get(reviews_url)\n",
    "\n",
    "print('\\tWeb page open, pausing for 5 seconds....')\n",
    "time.sleep(5.0)\n",
    "print('\\tpause complete!')"
   ]
  },
  {
   "cell_type": "code",
   "execution_count": 24,
   "metadata": {},
   "outputs": [],
   "source": [
    "# find the \"Reviews\" tab\n",
    "reviews_tab = driver.find_element(By.XPATH, value='//*[@id=\"tab-label-reviews-title\"]')"
   ]
  },
  {
   "cell_type": "code",
   "execution_count": 25,
   "metadata": {},
   "outputs": [],
   "source": [
    "# select \"Reviews\" tab\n",
    "reviews_tab.click()"
   ]
  },
  {
   "cell_type": "code",
   "execution_count": 12,
   "metadata": {},
   "outputs": [],
   "source": [
    "# get next reviews page button\n",
    "next_tab_xpath = '//*[@id=\"customer-reviews\"]/div[3]/div/div/div[2]/ul/li[2]/a'\n",
    "next_tab_button = driver.find_element(By.XPATH, value=next_tab_xpath)"
   ]
  },
  {
   "cell_type": "code",
   "execution_count": 13,
   "metadata": {},
   "outputs": [],
   "source": [
    "next_tab_button.click()"
   ]
  },
  {
   "cell_type": "code",
   "execution_count": 14,
   "metadata": {},
   "outputs": [],
   "source": [
    "# Tab 3\n",
    "# //*[@id=\"customer-reviews\"]/div[3]/div/div/div[2]/ul/li[3]/a\n",
    "def tab_xpath_constructor(tab_num):\n",
    "\n",
    "    tmp_xpath = \\\n",
    "        f'//*[@id=\"customer-reviews\"]/div[3]/div/div/div[2]/ul/li[{tab_num}]/a'\n",
    "    return tmp_xpath"
   ]
  },
  {
   "cell_type": "code",
   "execution_count": 27,
   "metadata": {},
   "outputs": [
    {
     "name": "stdout",
     "output_type": "stream",
     "text": [
      "Navigating to tab 2\n",
      "\tnavigated to tab 2\n",
      "\tpausng for 3.0 seconds....\n",
      "\n",
      "Navigating to tab 3\n"
     ]
    },
    {
     "ename": "NoSuchElementException",
     "evalue": "Message: no such element: Unable to locate element: {\"method\":\"xpath\",\"selector\":\"//*[@id=\"customer-reviews\"]/div[3]/div/div/div[2]/ul/li[3]/a\"}\n  (Session info: chrome=103.0.5060.114)\nStacktrace:\n0   chromedriver                        0x0000000107970079 chromedriver + 4444281\n1   chromedriver                        0x00000001078fc403 chromedriver + 3970051\n2   chromedriver                        0x0000000107597038 chromedriver + 409656\n3   chromedriver                        0x00000001075cd2fd chromedriver + 631549\n4   chromedriver                        0x00000001075cd581 chromedriver + 632193\n5   chromedriver                        0x00000001075ff4f4 chromedriver + 836852\n6   chromedriver                        0x00000001075ea7bd chromedriver + 751549\n7   chromedriver                        0x00000001075fd221 chromedriver + 827937\n8   chromedriver                        0x00000001075ea683 chromedriver + 751235\n9   chromedriver                        0x00000001075c0a45 chromedriver + 580165\n10  chromedriver                        0x00000001075c1a95 chromedriver + 584341\n11  chromedriver                        0x000000010794155d chromedriver + 4253021\n12  chromedriver                        0x00000001079463a1 chromedriver + 4273057\n13  chromedriver                        0x000000010794b16f chromedriver + 4292975\n14  chromedriver                        0x0000000107946dea chromedriver + 4275690\n15  chromedriver                        0x000000010792054f chromedriver + 4117839\n16  chromedriver                        0x0000000107960ed8 chromedriver + 4382424\n17  chromedriver                        0x000000010796105f chromedriver + 4382815\n18  chromedriver                        0x00000001079778d5 chromedriver + 4475093\n19  libsystem_pthread.dylib             0x00007fff205338fc _pthread_start + 224\n20  libsystem_pthread.dylib             0x00007fff2052f443 thread_start + 15\n",
     "output_type": "error",
     "traceback": [
      "\u001b[0;31m---------------------------------------------------------------------------\u001b[0m",
      "\u001b[0;31mNoSuchElementException\u001b[0m                    Traceback (most recent call last)",
      "\u001b[1;32m/Users/gcwww/Desktop/code-directory/sbe123/explore-pub/softstar-reviews/initial-setup_2022-07-08.ipynb Cell 14\u001b[0m in \u001b[0;36m<cell line: 4>\u001b[0;34m()\u001b[0m\n\u001b[1;32m     <a href='vscode-notebook-cell:/Users/gcwww/Desktop/code-directory/sbe123/explore-pub/softstar-reviews/initial-setup_2022-07-08.ipynb#ch0000017?line=12'>13</a>\u001b[0m tmp_xpath \u001b[39m=\u001b[39m tab_xpath_constructor(tabNum)\n\u001b[1;32m     <a href='vscode-notebook-cell:/Users/gcwww/Desktop/code-directory/sbe123/explore-pub/softstar-reviews/initial-setup_2022-07-08.ipynb#ch0000017?line=14'>15</a>\u001b[0m \u001b[39m# located button\u001b[39;00m\n\u001b[0;32m---> <a href='vscode-notebook-cell:/Users/gcwww/Desktop/code-directory/sbe123/explore-pub/softstar-reviews/initial-setup_2022-07-08.ipynb#ch0000017?line=15'>16</a>\u001b[0m tab_button \u001b[39m=\u001b[39m driver\u001b[39m.\u001b[39;49mfind_element(By\u001b[39m.\u001b[39;49mXPATH, value\u001b[39m=\u001b[39;49mtmp_xpath)\n\u001b[1;32m     <a href='vscode-notebook-cell:/Users/gcwww/Desktop/code-directory/sbe123/explore-pub/softstar-reviews/initial-setup_2022-07-08.ipynb#ch0000017?line=17'>18</a>\u001b[0m \u001b[39mprint\u001b[39m(\u001b[39mf\u001b[39m\u001b[39m'\u001b[39m\u001b[39m\\t\u001b[39;00m\u001b[39mnavigated to tab \u001b[39m\u001b[39m{\u001b[39;00mtabNum\u001b[39m}\u001b[39;00m\u001b[39m'\u001b[39m)\n\u001b[1;32m     <a href='vscode-notebook-cell:/Users/gcwww/Desktop/code-directory/sbe123/explore-pub/softstar-reviews/initial-setup_2022-07-08.ipynb#ch0000017?line=18'>19</a>\u001b[0m \u001b[39mprint\u001b[39m(\u001b[39mf\u001b[39m\u001b[39m'\u001b[39m\u001b[39m\\t\u001b[39;00m\u001b[39mpausng for \u001b[39m\u001b[39m{\u001b[39;00mtabDelay\u001b[39m}\u001b[39;00m\u001b[39m seconds....\u001b[39m\u001b[39m'\u001b[39m)\n",
      "File \u001b[0;32m~/.pyenv/versions/3.10.1/envs/sbe/lib/python3.10/site-packages/selenium/webdriver/remote/webdriver.py:857\u001b[0m, in \u001b[0;36mWebDriver.find_element\u001b[0;34m(self, by, value)\u001b[0m\n\u001b[1;32m    854\u001b[0m     by \u001b[39m=\u001b[39m By\u001b[39m.\u001b[39mCSS_SELECTOR\n\u001b[1;32m    855\u001b[0m     value \u001b[39m=\u001b[39m \u001b[39m'\u001b[39m\u001b[39m[name=\u001b[39m\u001b[39m\"\u001b[39m\u001b[39m%s\u001b[39;00m\u001b[39m\"\u001b[39m\u001b[39m]\u001b[39m\u001b[39m'\u001b[39m \u001b[39m%\u001b[39m value\n\u001b[0;32m--> 857\u001b[0m \u001b[39mreturn\u001b[39;00m \u001b[39mself\u001b[39;49m\u001b[39m.\u001b[39;49mexecute(Command\u001b[39m.\u001b[39;49mFIND_ELEMENT, {\n\u001b[1;32m    858\u001b[0m     \u001b[39m'\u001b[39;49m\u001b[39musing\u001b[39;49m\u001b[39m'\u001b[39;49m: by,\n\u001b[1;32m    859\u001b[0m     \u001b[39m'\u001b[39;49m\u001b[39mvalue\u001b[39;49m\u001b[39m'\u001b[39;49m: value})[\u001b[39m'\u001b[39m\u001b[39mvalue\u001b[39m\u001b[39m'\u001b[39m]\n",
      "File \u001b[0;32m~/.pyenv/versions/3.10.1/envs/sbe/lib/python3.10/site-packages/selenium/webdriver/remote/webdriver.py:435\u001b[0m, in \u001b[0;36mWebDriver.execute\u001b[0;34m(self, driver_command, params)\u001b[0m\n\u001b[1;32m    433\u001b[0m response \u001b[39m=\u001b[39m \u001b[39mself\u001b[39m\u001b[39m.\u001b[39mcommand_executor\u001b[39m.\u001b[39mexecute(driver_command, params)\n\u001b[1;32m    434\u001b[0m \u001b[39mif\u001b[39;00m response:\n\u001b[0;32m--> 435\u001b[0m     \u001b[39mself\u001b[39;49m\u001b[39m.\u001b[39;49merror_handler\u001b[39m.\u001b[39;49mcheck_response(response)\n\u001b[1;32m    436\u001b[0m     response[\u001b[39m'\u001b[39m\u001b[39mvalue\u001b[39m\u001b[39m'\u001b[39m] \u001b[39m=\u001b[39m \u001b[39mself\u001b[39m\u001b[39m.\u001b[39m_unwrap_value(\n\u001b[1;32m    437\u001b[0m         response\u001b[39m.\u001b[39mget(\u001b[39m'\u001b[39m\u001b[39mvalue\u001b[39m\u001b[39m'\u001b[39m, \u001b[39mNone\u001b[39;00m))\n\u001b[1;32m    438\u001b[0m     \u001b[39mreturn\u001b[39;00m response\n",
      "File \u001b[0;32m~/.pyenv/versions/3.10.1/envs/sbe/lib/python3.10/site-packages/selenium/webdriver/remote/errorhandler.py:247\u001b[0m, in \u001b[0;36mErrorHandler.check_response\u001b[0;34m(self, response)\u001b[0m\n\u001b[1;32m    245\u001b[0m         alert_text \u001b[39m=\u001b[39m value[\u001b[39m'\u001b[39m\u001b[39malert\u001b[39m\u001b[39m'\u001b[39m]\u001b[39m.\u001b[39mget(\u001b[39m'\u001b[39m\u001b[39mtext\u001b[39m\u001b[39m'\u001b[39m)\n\u001b[1;32m    246\u001b[0m     \u001b[39mraise\u001b[39;00m exception_class(message, screen, stacktrace, alert_text)  \u001b[39m# type: ignore[call-arg]  # mypy is not smart enough here\u001b[39;00m\n\u001b[0;32m--> 247\u001b[0m \u001b[39mraise\u001b[39;00m exception_class(message, screen, stacktrace)\n",
      "\u001b[0;31mNoSuchElementException\u001b[0m: Message: no such element: Unable to locate element: {\"method\":\"xpath\",\"selector\":\"//*[@id=\"customer-reviews\"]/div[3]/div/div/div[2]/ul/li[3]/a\"}\n  (Session info: chrome=103.0.5060.114)\nStacktrace:\n0   chromedriver                        0x0000000107970079 chromedriver + 4444281\n1   chromedriver                        0x00000001078fc403 chromedriver + 3970051\n2   chromedriver                        0x0000000107597038 chromedriver + 409656\n3   chromedriver                        0x00000001075cd2fd chromedriver + 631549\n4   chromedriver                        0x00000001075cd581 chromedriver + 632193\n5   chromedriver                        0x00000001075ff4f4 chromedriver + 836852\n6   chromedriver                        0x00000001075ea7bd chromedriver + 751549\n7   chromedriver                        0x00000001075fd221 chromedriver + 827937\n8   chromedriver                        0x00000001075ea683 chromedriver + 751235\n9   chromedriver                        0x00000001075c0a45 chromedriver + 580165\n10  chromedriver                        0x00000001075c1a95 chromedriver + 584341\n11  chromedriver                        0x000000010794155d chromedriver + 4253021\n12  chromedriver                        0x00000001079463a1 chromedriver + 4273057\n13  chromedriver                        0x000000010794b16f chromedriver + 4292975\n14  chromedriver                        0x0000000107946dea chromedriver + 4275690\n15  chromedriver                        0x000000010792054f chromedriver + 4117839\n16  chromedriver                        0x0000000107960ed8 chromedriver + 4382424\n17  chromedriver                        0x000000010796105f chromedriver + 4382815\n18  chromedriver                        0x00000001079778d5 chromedriver + 4475093\n19  libsystem_pthread.dylib             0x00007fff205338fc _pthread_start + 224\n20  libsystem_pthread.dylib             0x00007fff2052f443 thread_start + 15\n"
     ]
    }
   ],
   "source": [
    "click_count = 0\n",
    "\n",
    "tabDelay = 3.0\n",
    "for tabNum in range(2,5):\n",
    "\n",
    "    print(f'Navigating to tab {tabNum}')\n",
    "\n",
    "    if click_count > 0:\n",
    "\n",
    "        tabNum +=1\n",
    "\n",
    "    # get XPATH\n",
    "    tmp_xpath = tab_xpath_constructor(tabNum)\n",
    "\n",
    "    # located button\n",
    "    tab_button = driver.find_element(By.XPATH, value=tmp_xpath)\n",
    "\n",
    "    print(f'\\tnavigated to tab {tabNum}')\n",
    "    print(f'\\tpausng for {tabDelay} seconds....')\n",
    "\n",
    "    # click button / navigate to tab\n",
    "    tab_button.click()\n",
    "\n",
    "    # Pause for 3 seconds\n",
    "    time.sleep(tabDelay)\n",
    "\n",
    "    # Increment click_count\n",
    "    click_count +=- 1\n",
    "\n",
    "    print()"
   ]
  },
  {
   "cell_type": "code",
   "execution_count": 28,
   "metadata": {},
   "outputs": [
    {
     "name": "stdout",
     "output_type": "stream",
     "text": [
      "\n",
      "Terminating webdriver....\n",
      "\twebdriver terminated...\n"
     ]
    }
   ],
   "source": [
    "print('\\nTerminating webdriver....')\n",
    "\n",
    "# Close window\n",
    "driver.quit()\n",
    "\n",
    "print('\\twebdriver terminated...')"
   ]
  },
  {
   "cell_type": "code",
   "execution_count": null,
   "metadata": {},
   "outputs": [],
   "source": [
    "\"\"\"\n",
    "//*[@id=\"tab-label-reviews-title\"]\n",
    "//*[@id=\"tab-label-reviews-title\"]\n",
    "/html/body/div[2]/main/div[2]/div/div[2]/div/div[9]/a\n",
    "\n",
    "//*[@id=\"customer-reviews\"]/div[3]/div/div/div[2]/ul/li[2]/a\n",
    "\n",
    "//*[@id=\"customer-reviews\"]/div[3]/div/div/div[2]/ul/li[2]/a\n",
    "\n",
    "//*[@id=\"customer-reviews\"]/div[3]/div/div/div[2]/ul/li[3]/a\n",
    "\n",
    "//*[@id=\"customer-reviews\"]/div[3]/div/div/div[2]/ul/li[2]/a\n",
    "\n",
    "//*[@id=\"customer-reviews\"]/div[3]/div/div/div[2]/ul/li[3]/a\n",
    "\n",
    "//*[@id=\"customer-reviews\"]/div[3]/div/div/div[2]/ul/li[4]/a\n",
    "\"\"\""
   ]
  }
 ],
 "metadata": {
  "kernelspec": {
   "display_name": "Python 3.10.1 64-bit ('sbe')",
   "language": "python",
   "name": "python3"
  },
  "language_info": {
   "codemirror_mode": {
    "name": "ipython",
    "version": 3
   },
   "file_extension": ".py",
   "mimetype": "text/x-python",
   "name": "python",
   "nbconvert_exporter": "python",
   "pygments_lexer": "ipython3",
   "version": "3.10.1"
  },
  "orig_nbformat": 4,
  "vscode": {
   "interpreter": {
    "hash": "c828c3b873c12643eb99f21c3f8558883d2391eb35c10d818cb73435fe065940"
   }
  }
 },
 "nbformat": 4,
 "nbformat_minor": 2
}
